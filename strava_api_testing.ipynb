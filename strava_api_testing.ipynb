{
 "cells": [
  {
   "cell_type": "code",
   "execution_count": 15,
   "metadata": {},
   "outputs": [],
   "source": [
    "# from article: https://www.grace-dev.com/python-apis/strava-api/\n",
    "\n",
    "import json\n",
    "import os\n",
    "import requests\n",
    "import time\n",
    "\n",
    "# Initial Settings\n",
    "client_id = '99100'\n",
    "client_secret = '299906f28ff8a7dd20d67270c5b1782c428b4a5e'\n",
    "redirect_uri = 'http://localhost/'\n",
    "\n",
    "# Authorization URL\n",
    "request_url = f'http://www.strava.com/oauth/authorize?client_id={client_id}' \\\n",
    "                  f'&response_type=code&redirect_uri={redirect_uri}' \\\n",
    "                  f'&approval_prompt=force' \\\n",
    "                  f'&scope=profile:read_all,activity:read_all'"
   ]
  },
  {
   "cell_type": "code",
   "execution_count": 16,
   "metadata": {},
   "outputs": [
    {
     "name": "stdout",
     "output_type": "stream",
     "text": [
      "Click here: http://www.strava.com/oauth/authorize?client_id=99100&response_type=code&redirect_uri=http://localhost/&approval_prompt=force&scope=profile:read_all,activity:read_all\n",
      "Please authorize the app and copy&paste below the generated code!\n",
      "P.S: you can find the code in the URL\n"
     ]
    }
   ],
   "source": [
    "# User prompt showing the Authorization URL\n",
    "# and asks for the code\n",
    "print('Click here:', request_url)\n",
    "print('Please authorize the app and copy&paste below the generated code!')\n",
    "print('P.S: you can find the code in the URL')"
   ]
  },
  {
   "cell_type": "code",
   "execution_count": 17,
   "metadata": {},
   "outputs": [],
   "source": [
    "code = input('Insert the code from the url: ')\n",
    "\n",
    "# Get the access token\n",
    "token = requests.post(url='https://www.strava.com/api/v3/oauth/token',\n",
    "                       data={'client_id': client_id,\n",
    "                             'client_secret': client_secret,\n",
    "                             'code': code,\n",
    "                             'grant_type': 'authorization_code'})\n",
    "\n",
    "#Save json response as a variable\n",
    "strava_token = token.json()\n",
    "\n",
    "with open('strava_token.json', 'w') as outfile:\n",
    "  json.dump(strava_token, outfile)"
   ]
  },
  {
   "cell_type": "code",
   "execution_count": 36,
   "metadata": {},
   "outputs": [
    {
     "name": "stdout",
     "output_type": "stream",
     "text": [
      "{'id': 69122020, 'username': None, 'resource_state': 3, 'firstname': 'Justin', 'lastname': 'Long', 'bio': None, 'city': 'Clackamas', 'state': 'Oregon', 'country': None, 'sex': 'M', 'premium': True, 'summit': True, 'created_at': '2020-09-25T01:29:48Z', 'updated_at': '2022-08-05T06:57:44Z', 'badge_type_id': 1, 'weight': 68.0389, 'profile_medium': 'https://dgalywyr863hv.cloudfront.net/pictures/athletes/69122020/17007888/2/medium.jpg', 'profile': 'https://dgalywyr863hv.cloudfront.net/pictures/athletes/69122020/17007888/2/large.jpg', 'friend': None, 'follower': None, 'blocked': False, 'can_follow': True, 'follower_count': 30, 'friend_count': 28, 'mutual_friend_count': 0, 'athlete_type': 1, 'date_preference': '%m/%d/%Y', 'measurement_preference': 'feet', 'clubs': [], 'ftp': None, 'bikes': [], 'shoes': [], 'is_winback_via_upload': False, 'is_winback_via_view': False}\n"
     ]
    }
   ],
   "source": [
    "with open('strava_token.json', 'r') as token:\n",
    "  data = json.load(token)\n",
    "\n",
    "# Get the access token\n",
    "access_token = data['access_token']\n",
    "\n",
    "# Build the API url to get athlete info\n",
    "athlete_url = f\"https://www.strava.com/api/v3/athlete?\" \\\n",
    "              f\"access_token={access_token}\"\n",
    "\n",
    "# Get the response in json format\n",
    "response = requests.get(athlete_url)\n",
    "athlete = response.json()\n",
    "\n",
    "# Print out the retrieved information\n",
    "# print('RESTful API:', athlete_url)\n",
    "# print('='* 5, 'ATHLETE INFO', '=' * 5)\n",
    "# print('Name:', athlete['firstname'], '\"' + athlete['username'] + '\"', athlete['lastname'])\n",
    "# print('Gender:', athlete['sex'])\n",
    "# print('City:', athlete['city'], athlete['country'])\n",
    "# print('Strava athlete from:', athlete['created_at'])\n",
    "\n",
    "print(athlete)"
   ]
  },
  {
   "cell_type": "code",
   "execution_count": 37,
   "metadata": {},
   "outputs": [
    {
     "name": "stdout",
     "output_type": "stream",
     "text": [
      "RESTful API: https://www.strava.com/api/v3/athlete/activities?access_token=e0df360262eb40b719fc6b8f624401c4ec495e9b\n",
      "===== SINGLE ACTIVITY =====\n",
      "Athlete: Justin Long\n",
      "Name: Night Run\n",
      "Date: 2022-12-06T20:34:00Z\n",
      "Disance: 5008.0 m\n",
      "Average Speed: 3.05 m/s\n",
      "Max speed: 5.36 m/s\n",
      "Moving time: 27.37 minutes\n",
      "Location: None None None\n"
     ]
    }
   ],
   "source": [
    "# Read the token from the saved file\n",
    "with open('strava_token.json', 'r') as token:\n",
    "  data = json.load(token)\n",
    "\n",
    "access_token = data['access_token']\n",
    "\n",
    "# Build the API url to get activities data\n",
    "activities_url = f\"https://www.strava.com/api/v3/athlete/activities?\" \\\n",
    "          f\"access_token={access_token}\"\n",
    "print('RESTful API:', activities_url)\n",
    "\n",
    "# Get the response in json format\n",
    "response = requests.get(activities_url)\n",
    "activity = response.json()[5]\n",
    "\n",
    "# Print out the retrieved information\n",
    "print('='*5, 'SINGLE ACTIVITY', '='*5)\n",
    "print('Athlete:', athlete['firstname'], athlete['lastname'])\n",
    "print('Name:', activity['name'])\n",
    "print('Date:', activity['start_date'])\n",
    "print('Disance:', activity['distance'], 'm')\n",
    "print('Average Speed:', activity['average_speed'], 'm/s')\n",
    "print('Max speed:', activity['max_speed'], 'm/s')\n",
    "print('Moving time:', round(activity['moving_time'] / 60, 2), 'minutes')\n",
    "print('Location:', activity['location_city'], \n",
    "      activity['location_state'], activity['location_country'])"
   ]
  },
  {
   "cell_type": "code",
   "execution_count": 40,
   "metadata": {},
   "outputs": [
    {
     "name": "stdout",
     "output_type": "stream",
     "text": [
      "This activity is 9.608 miles\n",
      "This activity ID is 8304940494\n",
      "Activity keys: ['resource_state', 'athlete', 'name', 'distance', 'moving_time', 'elapsed_time', 'total_elevation_gain', 'type', 'sport_type', 'workout_type', 'id', 'start_date', 'start_date_local', 'timezone', 'utc_offset', 'location_city', 'location_state', 'location_country', 'achievement_count', 'kudos_count', 'comment_count', 'athlete_count', 'photo_count', 'map', 'trainer', 'commute', 'manual', 'private', 'visibility', 'flagged', 'gear_id', 'start_latlng', 'end_latlng', 'average_speed', 'max_speed', 'average_cadence', 'has_heartrate', 'average_heartrate', 'max_heartrate', 'heartrate_opt_out', 'display_hide_heartrate_option', 'elev_high', 'elev_low', 'upload_id', 'upload_id_str', 'external_id', 'from_accepted_tag', 'pr_count', 'total_photo_count', 'has_kudoed', 'suffer_score']\n"
     ]
    }
   ],
   "source": [
    "activity = response.json()[0]\n",
    "\n",
    "miles_per_kilometer = 0.000621371\n",
    "\n",
    "print(\"This activity is \" + str('%.3f'%(int(activity[\"distance\"]) * miles_per_kilometer)) + \" miles\")\n",
    "\n",
    "# print(activity)\n",
    "\n",
    "print(\"This activity ID is \" + str(activity[\"id\"]))\n",
    "\n",
    "activity_id = activity[\"id\"]\n",
    "\n",
    "print(\"Activity keys: \" + str(list(activity.keys())))"
   ]
  },
  {
   "attachments": {},
   "cell_type": "markdown",
   "metadata": {},
   "source": [
    "Idea: RunningShoesData+     (can also measure how many miles have been tracked since a given date)\n",
    "- Enter a date for when you last got new running shoes\n",
    "- Get all activities (from running) that have occurred past this date\n",
    "    - Put their mileages into a dataframe?\n",
    "    - Tally up mileages\n",
    "    - Display how many miles are on this pair of shoes\n",
    "    - Based on this number, when are you estimated to need new running shoes?\n",
    "        - If not yet reached the cutoff, calculate the average number of miles per week (or day?)\n",
    "        - See how many weeks are estimated to be needed to reach the cutoff number"
   ]
  },
  {
   "cell_type": "code",
   "execution_count": 5,
   "metadata": {},
   "outputs": [],
   "source": [
    "import pandas as pd\n",
    "import json\n",
    "import requests\n",
    "\n",
    "col_names = ['id','type', 'distance', 'start_date']\n",
    "activities = pd.DataFrame(columns=col_names)"
   ]
  },
  {
   "cell_type": "code",
   "execution_count": 18,
   "metadata": {},
   "outputs": [
    {
     "name": "stdout",
     "output_type": "stream",
     "text": [
      "{'message': 'Record Not Found', 'errors': [{'resource': 'resource', 'field': 'path', 'code': 'invalid'}]}\n"
     ]
    },
    {
     "ename": "KeyError",
     "evalue": "0",
     "output_type": "error",
     "traceback": [
      "\u001b[1;31m---------------------------------------------------------------------------\u001b[0m",
      "\u001b[1;31mKeyError\u001b[0m                                  Traceback (most recent call last)",
      "Cell \u001b[1;32mIn[18], line 31\u001b[0m\n\u001b[0;32m     29\u001b[0m \u001b[39m# otherwise add new data to dataframe\u001b[39;00m\n\u001b[0;32m     30\u001b[0m \u001b[39mfor\u001b[39;00m x \u001b[39min\u001b[39;00m \u001b[39mrange\u001b[39m(\u001b[39mlen\u001b[39m(r)):\n\u001b[1;32m---> 31\u001b[0m     activities\u001b[39m.\u001b[39mloc[x \u001b[39m+\u001b[39m (page\u001b[39m-\u001b[39m\u001b[39m1\u001b[39m)\u001b[39m*\u001b[39m\u001b[39m200\u001b[39m,\u001b[39m'\u001b[39m\u001b[39mid\u001b[39m\u001b[39m'\u001b[39m] \u001b[39m=\u001b[39m r[x][\u001b[39m'\u001b[39m\u001b[39mid\u001b[39m\u001b[39m'\u001b[39m]\n\u001b[0;32m     32\u001b[0m     activities\u001b[39m.\u001b[39mloc[x \u001b[39m+\u001b[39m (page\u001b[39m-\u001b[39m\u001b[39m1\u001b[39m)\u001b[39m*\u001b[39m\u001b[39m200\u001b[39m,\u001b[39m'\u001b[39m\u001b[39mtype\u001b[39m\u001b[39m'\u001b[39m] \u001b[39m=\u001b[39m r[x][\u001b[39m'\u001b[39m\u001b[39mtype\u001b[39m\u001b[39m'\u001b[39m]\n\u001b[0;32m     33\u001b[0m     activities\u001b[39m.\u001b[39mloc[x \u001b[39m+\u001b[39m (page\u001b[39m-\u001b[39m\u001b[39m1\u001b[39m)\u001b[39m*\u001b[39m\u001b[39m200\u001b[39m,\u001b[39m'\u001b[39m\u001b[39mdistance\u001b[39m\u001b[39m'\u001b[39m] \u001b[39m=\u001b[39m \u001b[39mint\u001b[39m(r[x][\u001b[39m'\u001b[39m\u001b[39mdistance\u001b[39m\u001b[39m'\u001b[39m]) \u001b[39m*\u001b[39m miles_per_meter\n",
      "\u001b[1;31mKeyError\u001b[0m: 0"
     ]
    }
   ],
   "source": [
    "# Get all activities\n",
    "with open('strava_token.json', 'r') as token:\n",
    "  data = json.load(token)\n",
    "\n",
    "# Get the access token\n",
    "access_token = data['access_token']\n",
    "\n",
    "page = 1\n",
    "activities_url = f\"https://www.strava.com/api/v3/athlete/activities\"  \\\n",
    "              f\"access_token={access_token}\"\n",
    "\n",
    "\n",
    "miles_per_meter = 0.000621371\n",
    "\n",
    "header = {\"Authorization\": \"Bearer \" + access_token}\n",
    "\n",
    "\n",
    "while True:\n",
    "    param = {'per_page': 200, 'page': page}\n",
    "    # get page of activities from Strava\n",
    "    r = requests.get(activities_url, headers=header, params=param).json()\n",
    "    print(r)\n",
    "\n",
    "    # if no results then exit loop\n",
    "    if (not r):\n",
    "        print(\"Obtained all activities!\")\n",
    "        break\n",
    "    \n",
    "    # otherwise add new data to dataframe\n",
    "    for x in range(len(r)):\n",
    "        activities.loc[x + (page-1)*200,'id'] = r[x]['id']\n",
    "        activities.loc[x + (page-1)*200,'type'] = r[x]['type']\n",
    "        activities.loc[x + (page-1)*200,'distance'] = int(r[x]['distance']) * miles_per_meter\n",
    "        activities.loc[x + (page-1)*200,'start_date'] = r[x]['start_date']\n",
    "\n",
    "    # increment page\n",
    "    page += 1\n",
    "\n",
    "print(\"Obtained data for \" + len(activities.index) + \" activities!\")"
   ]
  }
 ],
 "metadata": {
  "kernelspec": {
   "display_name": "Python 3",
   "language": "python",
   "name": "python3"
  },
  "language_info": {
   "codemirror_mode": {
    "name": "ipython",
    "version": 3
   },
   "file_extension": ".py",
   "mimetype": "text/x-python",
   "name": "python",
   "nbconvert_exporter": "python",
   "pygments_lexer": "ipython3",
   "version": "3.11.0"
  },
  "orig_nbformat": 4,
  "vscode": {
   "interpreter": {
    "hash": "c261aea317cc0286b3b3261fbba9abdec21eaa57589985bb7a274bf54d6cc0a7"
   }
  }
 },
 "nbformat": 4,
 "nbformat_minor": 2
}
